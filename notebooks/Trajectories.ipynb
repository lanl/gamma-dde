{
 "cells": [
  {
   "cell_type": "markdown",
   "metadata": {},
   "source": [
    "# Dependence of trajectories on $j$ \n",
    "\n",
    "We approximate the survival function of the Gamma distribution with a hypoexponential distribution, and a system of ODEs. How does the solution of ODEs depend on $j$?"
   ]
  },
  {
   "cell_type": "code",
   "execution_count": null,
   "metadata": {},
   "outputs": [],
   "source": [
    "import numpy as np\n",
    "import scipy.stats as sts\n",
    "from scipy.integrate import solve_ivp\n",
    "import matplotlib.pyplot as plt\n",
    "from matplotlib.gridspec import GridSpec\n",
    "from matplotlib.transforms import blended_transform_factory"
   ]
  },
  {
   "cell_type": "code",
   "execution_count": null,
   "metadata": {},
   "outputs": [],
   "source": [
    "plt.rcParams.update({'font.size': 18})"
   ]
  },
  {
   "cell_type": "code",
   "execution_count": null,
   "metadata": {},
   "outputs": [],
   "source": [
    "def ode_sys_fixed(t, u, n, j, tau):\n",
    "    gamma = n/tau\n",
    "    frj = j - np.floor(j)\n",
    "    x = n/tau / (1 + np.sqrt(n/(2*j) * (1-frj)))\n",
    "    y = n/tau / (1 - np.sqrt(n/(2*j) * (1-frj)))\n",
    "    du = np.zeros(n)\n",
    "    if n > 2:\n",
    "        du[0] = -gamma * u[0]\n",
    "        for k in range(1,n-2):\n",
    "            du[k] = gamma * (u[k-1] - u[k])\n",
    "        du[n-2] = gamma * u[n-3] - x * u[n-2]\n",
    "        du[n-1] = x * u[n-2] - y * u[n-1]\n",
    "    elif n == 2:\n",
    "        du[0] = -x * u[0]\n",
    "        du[1] = x * u[0] - y * u[1]\n",
    "    else:\n",
    "        raise Exception(\"ERROR!\")\n",
    "    return du\n",
    "\n",
    "def ode_sys_smooth(t, u, n, j, tau, h):\n",
    "    gamma = j/tau\n",
    "    frj = j - np.floor(j)\n",
    "    x = 1/(tau/(2*j) * (1 + frj + np.sqrt(1 - frj**2 + h**2) - h))\n",
    "    y = 1/(tau/(2*j) * (1 + frj - np.sqrt(1 - frj**2 + h**2) + h))\n",
    "    du = np.zeros(n)\n",
    "    if n > 2:\n",
    "        du[0] = -gamma * u[0]\n",
    "        for k in range(1,n-2):\n",
    "            du[k] = gamma * (u[k-1] - u[k])\n",
    "        du[n-2] = gamma * u[n-3] - x * u[n-2]\n",
    "        du[n-1] = x * u[n-2] - y * u[n-1]\n",
    "    elif n == 2:\n",
    "        du[0] = -x * u[0]\n",
    "        du[1] = x * u[0] - y * u[1]\n",
    "    else:\n",
    "        raise Exception(\"ERROR!\")\n",
    "    return du\n",
    "\n",
    "## exact solution\n",
    "def u_exact(t, j, tau):\n",
    "    return sts.gamma.sf(t, j, scale=tau/j)"
   ]
  },
  {
   "cell_type": "code",
   "execution_count": null,
   "metadata": {},
   "outputs": [],
   "source": [
    "js = np.linspace(1.01, 6.1, 1690)\n",
    "\n",
    "tmax = 4\n",
    "tau = 3.0\n",
    "h = 1e-2\n",
    "\n",
    "vals_n = np.zeros(len(js))\n",
    "vals_j = np.zeros(len(js))\n",
    "\n",
    "for i, j in enumerate(js):\n",
    "    n = max(2, int(np.ceil(j)))\n",
    "    u0 = np.zeros(n)\n",
    "    u0[0] = 1\n",
    "    t_span = (0, tmax)\n",
    "    u_n = solve_ivp(lambda t, u: ode_sys_fixed(t, u, n, j, tau), t_span, u0)\n",
    "    u_j = solve_ivp(lambda t, u: ode_sys_smooth(t, u, n, j, tau, h), t_span, u0)\n",
    "    vals_n[i] = np.sum(u_n.y[:,-1])\n",
    "    vals_j[i] = np.sum(u_j.y[:,-1])"
   ]
  },
  {
   "cell_type": "markdown",
   "metadata": {},
   "source": [
    "## Figure for manuscript"
   ]
  },
  {
   "cell_type": "code",
   "execution_count": null,
   "metadata": {},
   "outputs": [],
   "source": [
    "def hybrid_trans(ax):\n",
    "    return blended_transform_factory(ax.transData, ax.transAxes)\n",
    "\n",
    "\n",
    "fig = plt.figure(figsize=(10,5))\n",
    "\n",
    "gs = GridSpec(1,2)\n",
    "\n",
    "ax = fig.add_subplot(gs[:,1])\n",
    "\n",
    "ax.plot(js, vals_n, linewidth=1, color='k', zorder=2, label=\"fixed\")\n",
    "ax.plot(js, vals_j, linewidth=4, color='lightcoral', zorder=1, label=\"smoothed\")\n",
    "ax.plot(js, [u_exact(tmax, j, tau) for j in js], color='tab:blue', label=\"exact\")\n",
    "\n",
    "\n",
    "ax.legend(fontsize='x-small')\n",
    "\n",
    "ax.set_xlabel(\"$j$\")\n",
    "ax.set_ylabel(\"$u^j(t_1)$\")\n",
    "\n",
    "j = 2.1\n",
    "\n",
    "ax.axvline(x=j, color='k', linestyle='--')\n",
    "ax.text(j, 1, \"$j*$\", transform=hybrid_trans(ax), ha='center', va='bottom')\n",
    "\n",
    "n = max(2, int(np.ceil(j)))\n",
    "u0 = np.zeros(n)\n",
    "u0[0] = 1\n",
    "t_span = (0, tmax+1)\n",
    "t_eval = np.linspace(*t_span, 1000)\n",
    "u_n = solve_ivp(lambda t, u: ode_sys_fixed(t, u, n, j, tau), t_span, u0, t_eval=t_eval)\n",
    "u_j = solve_ivp(lambda t, u: ode_sys_smooth(t, u, n, j, tau, h), t_span, u0, t_eval=t_eval)\n",
    "\n",
    "bx = fig.add_subplot(gs[:,0])\n",
    "\n",
    "bx.plot(t_eval, np.sum(u_n.y, axis=0), linewidth=1, color='k', zorder=2)\n",
    "bx.plot(t_eval, np.sum(u_j.y, axis=0), linewidth=4, color='lightcoral', zorder=1)\n",
    "\n",
    "#bx.plot(t_eval, [u_exact(t, j, tau) for t in t_eval], color='tab:blue', zorder=0, linewidth=6)\n",
    "\n",
    "bx.set_xlabel(\"$t$\")\n",
    "bx.set_ylabel(\"$u^{j*}(t)$\")\n",
    "\n",
    "bx.axvline(x=tmax, color='k', linestyle='--')\n",
    "bx.text(tmax, 1, \"$t_1$\", transform=hybrid_trans(bx), ha='center', va='bottom')\n",
    "bx.set_ylim(-0.05,1.05)\n",
    "\n",
    "bx.text(-0.1, 1.1, 'A', fontsize='x-large', transform=bx.transAxes)\n",
    "ax.text(-0.1, 1.1, 'B', fontsize='x-large', transform=ax.transAxes)\n",
    "\n",
    "\n",
    "fig.tight_layout()\n",
    "\n",
    "fig.savefig(\"../sensitivity.pdf\", bbox_inches='tight')"
   ]
  }
 ],
 "metadata": {
  "kernelspec": {
   "display_name": "Python 3",
   "language": "python",
   "name": "python3"
  },
  "language_info": {
   "codemirror_mode": {
    "name": "ipython",
    "version": 3
   },
   "file_extension": ".py",
   "mimetype": "text/x-python",
   "name": "python",
   "nbconvert_exporter": "python",
   "pygments_lexer": "ipython3",
   "version": "3.8.10"
  }
 },
 "nbformat": 4,
 "nbformat_minor": 4
}
